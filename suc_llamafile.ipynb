{
  "nbformat": 4,
  "nbformat_minor": 0,
  "metadata": {
    "colab": {
      "provenance": []
    },
    "kernelspec": {
      "name": "python3",
      "display_name": "Python 3"
    },
    "language_info": {
      "name": "python"
    }
  },
  "cells": [
    {
      "cell_type": "code",
      "execution_count": null,
      "metadata": {
        "id": "kcKKJyj2KfG0"
      },
      "outputs": [],
      "source": []
    },
    {
      "cell_type": "code",
      "source": [],
      "metadata": {
        "id": "Q4lfHlqQTnhk"
      },
      "execution_count": null,
      "outputs": []
    },
    {
      "cell_type": "code",
      "source": [],
      "metadata": {
        "id": "NaFthyU0TnlS"
      },
      "execution_count": null,
      "outputs": []
    },
    {
      "cell_type": "markdown",
      "source": [
        "https://github.com/Mozilla-Ocho/llamafile\n",
        "\n",
        "\n",
        "\n",
        "https://ai-guide.future.mozilla.org/content/running-llms-locally/"
      ],
      "metadata": {
        "id": "9ALDQXOpXl0k"
      }
    },
    {
      "cell_type": "code",
      "source": [
        "!git clone https://github.com/Mozilla-Ocho/llamafile.git"
      ],
      "metadata": {
        "colab": {
          "base_uri": "https://localhost:8080/"
        },
        "id": "mIPWfGjbTnoK",
        "outputId": "9a3e6bd3-f4a6-4462-9ed5-48f77cb4fbca"
      },
      "execution_count": 1,
      "outputs": [
        {
          "output_type": "stream",
          "name": "stdout",
          "text": [
            "Cloning into 'llamafile'...\n",
            "remote: Enumerating objects: 8236, done.\u001b[K\n",
            "remote: Counting objects: 100% (1765/1765), done.\u001b[K\n",
            "remote: Compressing objects: 100% (227/227), done.\u001b[K\n",
            "remote: Total 8236 (delta 1646), reused 1545 (delta 1538), pack-reused 6471 (from 6)\u001b[K\n",
            "Receiving objects: 100% (8236/8236), 24.84 MiB | 11.13 MiB/s, done.\n",
            "Resolving deltas: 100% (6178/6178), done.\n",
            "Updating files: 100% (946/946), done.\n"
          ]
        }
      ]
    },
    {
      "cell_type": "code",
      "source": [
        "!wget https://huggingface.co/Mozilla/llava-v1.5-7b-llamafile/resolve/main/llava-v1.5-7b-q4.llamafile?download=true"
      ],
      "metadata": {
        "colab": {
          "base_uri": "https://localhost:8080/"
        },
        "id": "gf-oD-gQTp2k",
        "outputId": "cf4b4ad5-690a-4a08-afe8-138b14c76b55"
      },
      "execution_count": 2,
      "outputs": [
        {
          "output_type": "stream",
          "name": "stdout",
          "text": [
            "--2025-04-16 01:56:04--  https://huggingface.co/Mozilla/llava-v1.5-7b-llamafile/resolve/main/llava-v1.5-7b-q4.llamafile?download=true\n",
            "Resolving huggingface.co (huggingface.co)... 3.169.137.19, 3.169.137.111, 3.169.137.5, ...\n",
            "Connecting to huggingface.co (huggingface.co)|3.169.137.19|:443... connected.\n",
            "HTTP request sent, awaiting response... 302 Found\n",
            "Location: https://cdn-lfs-us-1.hf.co/repos/47/b6/47b6f8ba5eb3e468b21afda079e6615e358ccd0d1817e6f290c3e78031560e0d/1650f51a1468d056e2a6fb1433cec34fd6b917cfc18c32917251d6471217d46b?response-content-disposition=attachment%3B+filename*%3DUTF-8%27%27llava-v1.5-7b-q4.llamafile%3B+filename%3D%22llava-v1.5-7b-q4.llamafile%22%3B&Expires=1744772164&Policy=eyJTdGF0ZW1lbnQiOlt7IkNvbmRpdGlvbiI6eyJEYXRlTGVzc1RoYW4iOnsiQVdTOkVwb2NoVGltZSI6MTc0NDc3MjE2NH19LCJSZXNvdXJjZSI6Imh0dHBzOi8vY2RuLWxmcy11cy0xLmhmLmNvL3JlcG9zLzQ3L2I2LzQ3YjZmOGJhNWViM2U0NjhiMjFhZmRhMDc5ZTY2MTVlMzU4Y2NkMGQxODE3ZTZmMjkwYzNlNzgwMzE1NjBlMGQvMTY1MGY1MWExNDY4ZDA1NmUyYTZmYjE0MzNjZWMzNGZkNmI5MTdjZmMxOGMzMjkxNzI1MWQ2NDcxMjE3ZDQ2Yj9yZXNwb25zZS1jb250ZW50LWRpc3Bvc2l0aW9uPSoifV19&Signature=XyJ-RAYN8q6sgEP4bgXz97c60fbFamZ1oyO8F4kproracYyurpqPxNEwlD-yIkCL6-VHh0kX1iBAAznBXfaeiHaDwCnCsYvDrhtmG2NiePffcUqN4LdRaO-r-BcsXykAaKq-rW1wjzurboZ3ajHH5%7E6oZPaBltJCYcSkeBCs8By4dhGL6cLgyJTAyGHF5UjMchE1oKVH3SYGwF4TVwlBvzFeySvrC2Q9Azzw6-ZeSpGG1HzIb0aYEtlcvn1HfRQZT32V%7EyJvajXpsht1aUreJL-ZT59-UZ0VpSC1j0UGwJPG1cbZe3QlShWql1aGw5zNBx4JqA5KgHKEhhky5no0cg__&Key-Pair-Id=K24J24Z295AEI9 [following]\n",
            "--2025-04-16 01:56:04--  https://cdn-lfs-us-1.hf.co/repos/47/b6/47b6f8ba5eb3e468b21afda079e6615e358ccd0d1817e6f290c3e78031560e0d/1650f51a1468d056e2a6fb1433cec34fd6b917cfc18c32917251d6471217d46b?response-content-disposition=attachment%3B+filename*%3DUTF-8%27%27llava-v1.5-7b-q4.llamafile%3B+filename%3D%22llava-v1.5-7b-q4.llamafile%22%3B&Expires=1744772164&Policy=eyJTdGF0ZW1lbnQiOlt7IkNvbmRpdGlvbiI6eyJEYXRlTGVzc1RoYW4iOnsiQVdTOkVwb2NoVGltZSI6MTc0NDc3MjE2NH19LCJSZXNvdXJjZSI6Imh0dHBzOi8vY2RuLWxmcy11cy0xLmhmLmNvL3JlcG9zLzQ3L2I2LzQ3YjZmOGJhNWViM2U0NjhiMjFhZmRhMDc5ZTY2MTVlMzU4Y2NkMGQxODE3ZTZmMjkwYzNlNzgwMzE1NjBlMGQvMTY1MGY1MWExNDY4ZDA1NmUyYTZmYjE0MzNjZWMzNGZkNmI5MTdjZmMxOGMzMjkxNzI1MWQ2NDcxMjE3ZDQ2Yj9yZXNwb25zZS1jb250ZW50LWRpc3Bvc2l0aW9uPSoifV19&Signature=XyJ-RAYN8q6sgEP4bgXz97c60fbFamZ1oyO8F4kproracYyurpqPxNEwlD-yIkCL6-VHh0kX1iBAAznBXfaeiHaDwCnCsYvDrhtmG2NiePffcUqN4LdRaO-r-BcsXykAaKq-rW1wjzurboZ3ajHH5%7E6oZPaBltJCYcSkeBCs8By4dhGL6cLgyJTAyGHF5UjMchE1oKVH3SYGwF4TVwlBvzFeySvrC2Q9Azzw6-ZeSpGG1HzIb0aYEtlcvn1HfRQZT32V%7EyJvajXpsht1aUreJL-ZT59-UZ0VpSC1j0UGwJPG1cbZe3QlShWql1aGw5zNBx4JqA5KgHKEhhky5no0cg__&Key-Pair-Id=K24J24Z295AEI9\n",
            "Resolving cdn-lfs-us-1.hf.co (cdn-lfs-us-1.hf.co)... 3.169.36.38, 3.169.36.128, 3.169.36.120, ...\n",
            "Connecting to cdn-lfs-us-1.hf.co (cdn-lfs-us-1.hf.co)|3.169.36.38|:443... connected.\n",
            "HTTP request sent, awaiting response... 200 OK\n",
            "Length: 4566243474 (4.3G) [binary/octet-stream]\n",
            "Saving to: ‘llava-v1.5-7b-q4.llamafile?download=true’\n",
            "\n",
            "llava-v1.5-7b-q4.ll 100%[===================>]   4.25G  19.5MB/s    in 2m 17s  \n",
            "\n",
            "2025-04-16 01:58:22 (31.8 MB/s) - ‘llava-v1.5-7b-q4.llamafile?download=true’ saved [4566243474/4566243474]\n",
            "\n"
          ]
        }
      ]
    },
    {
      "cell_type": "code",
      "source": [
        "!chmod +x llava-v1.5-7b-q4.llamafile"
      ],
      "metadata": {
        "id": "INRDwVh7T3mK"
      },
      "execution_count": 4,
      "outputs": []
    },
    {
      "cell_type": "code",
      "source": [
        "!./llava-v1.5-7b-q4.llamafile"
      ],
      "metadata": {
        "colab": {
          "base_uri": "https://localhost:8080/"
        },
        "id": "ECP4HcFUUYmL",
        "outputId": "6b769036-8f02-4576-e0bf-058f3be1bbd2"
      },
      "execution_count": 5,
      "outputs": [
        {
          "output_type": "stream",
          "name": "stdout",
          "text": [
            "\n",
            "\u001b[32m█\u001b[39m\u001b[32m█\u001b[39m\u001b[2m╗\u001b[22m     \u001b[32m█\u001b[39m\u001b[32m█\u001b[39m\u001b[2m╗\u001b[22m      \u001b[32m█\u001b[39m\u001b[32m█\u001b[39m\u001b[32m█\u001b[39m\u001b[32m█\u001b[39m\u001b[32m█\u001b[39m\u001b[2m╗\u001b[22m \u001b[32m█\u001b[39m\u001b[32m█\u001b[39m\u001b[32m█\u001b[39m\u001b[2m╗\u001b[22m   \u001b[32m█\u001b[39m\u001b[32m█\u001b[39m\u001b[32m█\u001b[39m\u001b[2m╗\u001b[22m \u001b[32m█\u001b[39m\u001b[32m█\u001b[39m\u001b[32m█\u001b[39m\u001b[32m█\u001b[39m\u001b[32m█\u001b[39m\u001b[2m╗\u001b[22m \u001b[32m█\u001b[39m\u001b[32m█\u001b[39m\u001b[32m█\u001b[39m\u001b[32m█\u001b[39m\u001b[32m█\u001b[39m\u001b[32m█\u001b[39m\u001b[32m█\u001b[39m\u001b[2m╗\u001b[22m\u001b[32m█\u001b[39m\u001b[32m█\u001b[39m\u001b[2m╗\u001b[22m\u001b[32m█\u001b[39m\u001b[32m█\u001b[39m\u001b[2m╗\u001b[22m     \u001b[32m█\u001b[39m\u001b[32m█\u001b[39m\u001b[32m█\u001b[39m\u001b[32m█\u001b[39m\u001b[32m█\u001b[39m\u001b[32m█\u001b[39m\u001b[32m█\u001b[39m\u001b[2m╗\u001b[22m\n",
            "\u001b[32m█\u001b[39m\u001b[32m█\u001b[39m\u001b[2m║\u001b[22m     \u001b[32m█\u001b[39m\u001b[32m█\u001b[39m\u001b[2m║\u001b[22m     \u001b[32m█\u001b[39m\u001b[32m█\u001b[39m\u001b[2m╔\u001b[22m\u001b[2m═\u001b[22m\u001b[2m═\u001b[22m\u001b[32m█\u001b[39m\u001b[32m█\u001b[39m\u001b[2m╗\u001b[22m\u001b[32m█\u001b[39m\u001b[32m█\u001b[39m\u001b[32m█\u001b[39m\u001b[32m█\u001b[39m\u001b[2m╗\u001b[22m \u001b[32m█\u001b[39m\u001b[32m█\u001b[39m\u001b[32m█\u001b[39m\u001b[32m█\u001b[39m\u001b[2m║\u001b[22m\u001b[32m█\u001b[39m\u001b[32m█\u001b[39m\u001b[2m╔\u001b[22m\u001b[2m═\u001b[22m\u001b[2m═\u001b[22m\u001b[32m█\u001b[39m\u001b[32m█\u001b[39m\u001b[2m╗\u001b[22m\u001b[32m█\u001b[39m\u001b[32m█\u001b[39m\u001b[2m╔\u001b[22m\u001b[2m═\u001b[22m\u001b[2m═\u001b[22m\u001b[2m═\u001b[22m\u001b[2m═\u001b[22m\u001b[2m╝\u001b[22m\u001b[32m█\u001b[39m\u001b[32m█\u001b[39m\u001b[2m║\u001b[22m\u001b[32m█\u001b[39m\u001b[32m█\u001b[39m\u001b[2m║\u001b[22m     \u001b[32m█\u001b[39m\u001b[32m█\u001b[39m\u001b[2m╔\u001b[22m\u001b[2m═\u001b[22m\u001b[2m═\u001b[22m\u001b[2m═\u001b[22m\u001b[2m═\u001b[22m\u001b[2m╝\u001b[22m\n",
            "\u001b[32m█\u001b[39m\u001b[32m█\u001b[39m\u001b[2m║\u001b[22m     \u001b[32m█\u001b[39m\u001b[32m█\u001b[39m\u001b[2m║\u001b[22m     \u001b[32m█\u001b[39m\u001b[32m█\u001b[39m\u001b[32m█\u001b[39m\u001b[32m█\u001b[39m\u001b[32m█\u001b[39m\u001b[32m█\u001b[39m\u001b[32m█\u001b[39m\u001b[2m║\u001b[22m\u001b[32m█\u001b[39m\u001b[32m█\u001b[39m\u001b[2m╔\u001b[22m\u001b[32m█\u001b[39m\u001b[32m█\u001b[39m\u001b[32m█\u001b[39m\u001b[32m█\u001b[39m\u001b[2m╔\u001b[22m\u001b[32m█\u001b[39m\u001b[32m█\u001b[39m\u001b[2m║\u001b[22m\u001b[32m█\u001b[39m\u001b[32m█\u001b[39m\u001b[32m█\u001b[39m\u001b[32m█\u001b[39m\u001b[32m█\u001b[39m\u001b[32m█\u001b[39m\u001b[32m█\u001b[39m\u001b[2m║\u001b[22m\u001b[32m█\u001b[39m\u001b[32m█\u001b[39m\u001b[32m█\u001b[39m\u001b[32m█\u001b[39m\u001b[32m█\u001b[39m\u001b[2m╗\u001b[22m  \u001b[32m█\u001b[39m\u001b[32m█\u001b[39m\u001b[2m║\u001b[22m\u001b[32m█\u001b[39m\u001b[32m█\u001b[39m\u001b[2m║\u001b[22m     \u001b[32m█\u001b[39m\u001b[32m█\u001b[39m\u001b[32m█\u001b[39m\u001b[32m█\u001b[39m\u001b[32m█\u001b[39m\u001b[2m╗\u001b[22m\n",
            "\u001b[32m█\u001b[39m\u001b[32m█\u001b[39m\u001b[2m║\u001b[22m     \u001b[32m█\u001b[39m\u001b[32m█\u001b[39m\u001b[2m║\u001b[22m     \u001b[32m█\u001b[39m\u001b[32m█\u001b[39m\u001b[2m╔\u001b[22m\u001b[2m═\u001b[22m\u001b[2m═\u001b[22m\u001b[32m█\u001b[39m\u001b[32m█\u001b[39m\u001b[2m║\u001b[22m\u001b[32m█\u001b[39m\u001b[32m█\u001b[39m\u001b[2m║\u001b[22m\u001b[2m╚\u001b[22m\u001b[32m█\u001b[39m\u001b[32m█\u001b[39m\u001b[2m╔\u001b[22m\u001b[2m╝\u001b[22m\u001b[32m█\u001b[39m\u001b[32m█\u001b[39m\u001b[2m║\u001b[22m\u001b[32m█\u001b[39m\u001b[32m█\u001b[39m\u001b[2m╔\u001b[22m\u001b[2m═\u001b[22m\u001b[2m═\u001b[22m\u001b[32m█\u001b[39m\u001b[32m█\u001b[39m\u001b[2m║\u001b[22m\u001b[32m█\u001b[39m\u001b[32m█\u001b[39m\u001b[2m╔\u001b[22m\u001b[2m═\u001b[22m\u001b[2m═\u001b[22m\u001b[2m╝\u001b[22m  \u001b[32m█\u001b[39m\u001b[32m█\u001b[39m\u001b[2m║\u001b[22m\u001b[32m█\u001b[39m\u001b[32m█\u001b[39m\u001b[2m║\u001b[22m     \u001b[32m█\u001b[39m\u001b[32m█\u001b[39m\u001b[2m╔\u001b[22m\u001b[2m═\u001b[22m\u001b[2m═\u001b[22m\u001b[2m╝\u001b[22m\n",
            "\u001b[32m█\u001b[39m\u001b[32m█\u001b[39m\u001b[32m█\u001b[39m\u001b[32m█\u001b[39m\u001b[32m█\u001b[39m\u001b[32m█\u001b[39m\u001b[32m█\u001b[39m\u001b[2m╗\u001b[22m\u001b[32m█\u001b[39m\u001b[32m█\u001b[39m\u001b[32m█\u001b[39m\u001b[32m█\u001b[39m\u001b[32m█\u001b[39m\u001b[32m█\u001b[39m\u001b[32m█\u001b[39m\u001b[2m╗\u001b[22m\u001b[32m█\u001b[39m\u001b[32m█\u001b[39m\u001b[2m║\u001b[22m  \u001b[32m█\u001b[39m\u001b[32m█\u001b[39m\u001b[2m║\u001b[22m\u001b[32m█\u001b[39m\u001b[32m█\u001b[39m\u001b[2m║\u001b[22m \u001b[2m╚\u001b[22m\u001b[2m═\u001b[22m\u001b[2m╝\u001b[22m \u001b[32m█\u001b[39m\u001b[32m█\u001b[39m\u001b[2m║\u001b[22m\u001b[32m█\u001b[39m\u001b[32m█\u001b[39m\u001b[2m║\u001b[22m  \u001b[32m█\u001b[39m\u001b[32m█\u001b[39m\u001b[2m║\u001b[22m\u001b[32m█\u001b[39m\u001b[32m█\u001b[39m\u001b[2m║\u001b[22m     \u001b[32m█\u001b[39m\u001b[32m█\u001b[39m\u001b[2m║\u001b[22m\u001b[32m█\u001b[39m\u001b[32m█\u001b[39m\u001b[32m█\u001b[39m\u001b[32m█\u001b[39m\u001b[32m█\u001b[39m\u001b[32m█\u001b[39m\u001b[32m█\u001b[39m\u001b[2m╗\u001b[22m\u001b[32m█\u001b[39m\u001b[32m█\u001b[39m\u001b[32m█\u001b[39m\u001b[32m█\u001b[39m\u001b[32m█\u001b[39m\u001b[32m█\u001b[39m\u001b[32m█\u001b[39m\u001b[2m╗\u001b[22m\n",
            "\u001b[2m╚\u001b[22m\u001b[2m═\u001b[22m\u001b[2m═\u001b[22m\u001b[2m═\u001b[22m\u001b[2m═\u001b[22m\u001b[2m═\u001b[22m\u001b[2m═\u001b[22m\u001b[2m╝\u001b[22m\u001b[2m╚\u001b[22m\u001b[2m═\u001b[22m\u001b[2m═\u001b[22m\u001b[2m═\u001b[22m\u001b[2m═\u001b[22m\u001b[2m═\u001b[22m\u001b[2m═\u001b[22m\u001b[2m╝\u001b[22m\u001b[2m╚\u001b[22m\u001b[2m═\u001b[22m\u001b[2m╝\u001b[22m  \u001b[2m╚\u001b[22m\u001b[2m═\u001b[22m\u001b[2m╝\u001b[22m\u001b[2m╚\u001b[22m\u001b[2m═\u001b[22m\u001b[2m╝\u001b[22m     \u001b[2m╚\u001b[22m\u001b[2m═\u001b[22m\u001b[2m╝\u001b[22m\u001b[2m╚\u001b[22m\u001b[2m═\u001b[22m\u001b[2m╝\u001b[22m  \u001b[2m╚\u001b[22m\u001b[2m═\u001b[22m\u001b[2m╝\u001b[22m\u001b[2m╚\u001b[22m\u001b[2m═\u001b[22m\u001b[2m╝\u001b[22m     \u001b[2m╚\u001b[22m\u001b[2m═\u001b[22m\u001b[2m╝\u001b[22m\u001b[2m╚\u001b[22m\u001b[2m═\u001b[22m\u001b[2m═\u001b[22m\u001b[2m═\u001b[22m\u001b[2m═\u001b[22m\u001b[2m═\u001b[22m\u001b[2m═\u001b[22m\u001b[2m╝\u001b[22m\u001b[2m╚\u001b[22m\u001b[2m═\u001b[22m\u001b[2m═\u001b[22m\u001b[2m═\u001b[22m\u001b[2m═\u001b[22m\u001b[2m═\u001b[22m\u001b[2m═\u001b[22m\u001b[2m╝\u001b[22m\n",
            "\u001b[K\u001b[1msoftware\u001b[22m: llamafile 0.9.2\n",
            "\u001b[1mmodel\u001b[22m:    llava-v1.5-7b-Q4_K.gguf\n",
            "\u001b[1mmode\u001b[22m:     RAW TEXT COMPLETION (base model)\n",
            "\u001b[1mcompute\u001b[22m:             Intel Xeon CPU @ 2.20GHz (broadwell)\n",
            "\u001b[1mserver\u001b[22m:   http://127.0.0.1:8081/\n",
            "\n",
            ">>> i\u001b[J\n",
            "\u001b[K"
          ]
        }
      ]
    },
    {
      "cell_type": "code",
      "source": [
        "!pip install pyngrok"
      ],
      "metadata": {
        "colab": {
          "base_uri": "https://localhost:8080/"
        },
        "id": "wrRy1jlTVImj",
        "outputId": "c5648f5a-2c16-4909-b287-0996626f3fea"
      },
      "execution_count": 6,
      "outputs": [
        {
          "output_type": "stream",
          "name": "stdout",
          "text": [
            "Collecting pyngrok\n",
            "  Downloading pyngrok-7.2.4-py3-none-any.whl.metadata (8.7 kB)\n",
            "Requirement already satisfied: PyYAML>=5.1 in /usr/local/lib/python3.11/dist-packages (from pyngrok) (6.0.2)\n",
            "Downloading pyngrok-7.2.4-py3-none-any.whl (23 kB)\n",
            "Installing collected packages: pyngrok\n",
            "Successfully installed pyngrok-7.2.4\n"
          ]
        }
      ]
    },
    {
      "cell_type": "code",
      "source": [
        "\n",
        "from pyngrok import ngrok\n",
        "import threading\n",
        "import time\n",
        "\n",
        "ngrok_token = \"XXXXXXXXXXX\"\n",
        "ngrok.set_auth_token(ngrok_token)\n",
        "\n",
        "# Start ngrok in a separate thread to avoid blocking\n",
        "def start_ngrok():\n",
        "    public_url = ngrok.connect(8081).public_url\n",
        "    print(f\"🚀 Ngrok Tunnel Open: {public_url}\")\n",
        "\n",
        "ngrok_thread = threading.Thread(target=start_ngrok)\n",
        "ngrok_thread.start()\n",
        "\n",
        "# Wait for ngrok to start (optional)\n",
        "time.sleep(5)\n",
        "\n",
        "!./llava-v1.5-7b-q4.llamafile"
      ],
      "metadata": {
        "colab": {
          "base_uri": "https://localhost:8080/"
        },
        "id": "f5GEoqJRVMS6",
        "outputId": "432fc09d-f267-4ce0-8aed-e3b7a2396ef2"
      },
      "execution_count": 7,
      "outputs": [
        {
          "output_type": "stream",
          "name": "stdout",
          "text": [
            "🚀 Ngrok Tunnel Open: https://cc17-35-185-142-30.ngrok-free.app\n",
            "\n",
            "\u001b[32m█\u001b[39m\u001b[32m█\u001b[39m\u001b[2m╗\u001b[22m     \u001b[32m█\u001b[39m\u001b[32m█\u001b[39m\u001b[2m╗\u001b[22m      \u001b[32m█\u001b[39m\u001b[32m█\u001b[39m\u001b[32m█\u001b[39m\u001b[32m█\u001b[39m\u001b[32m█\u001b[39m\u001b[2m╗\u001b[22m \u001b[32m█\u001b[39m\u001b[32m█\u001b[39m\u001b[32m█\u001b[39m\u001b[2m╗\u001b[22m   \u001b[32m█\u001b[39m\u001b[32m█\u001b[39m\u001b[32m█\u001b[39m\u001b[2m╗\u001b[22m \u001b[32m█\u001b[39m\u001b[32m█\u001b[39m\u001b[32m█\u001b[39m\u001b[32m█\u001b[39m\u001b[32m█\u001b[39m\u001b[2m╗\u001b[22m \u001b[32m█\u001b[39m\u001b[32m█\u001b[39m\u001b[32m█\u001b[39m\u001b[32m█\u001b[39m\u001b[32m█\u001b[39m\u001b[32m█\u001b[39m\u001b[32m█\u001b[39m\u001b[2m╗\u001b[22m\u001b[32m█\u001b[39m\u001b[32m█\u001b[39m\u001b[2m╗\u001b[22m\u001b[32m█\u001b[39m\u001b[32m█\u001b[39m\u001b[2m╗\u001b[22m     \u001b[32m█\u001b[39m\u001b[32m█\u001b[39m\u001b[32m█\u001b[39m\u001b[32m█\u001b[39m\u001b[32m█\u001b[39m\u001b[32m█\u001b[39m\u001b[32m█\u001b[39m\u001b[2m╗\u001b[22m\n",
            "\u001b[32m█\u001b[39m\u001b[32m█\u001b[39m\u001b[2m║\u001b[22m     \u001b[32m█\u001b[39m\u001b[32m█\u001b[39m\u001b[2m║\u001b[22m     \u001b[32m█\u001b[39m\u001b[32m█\u001b[39m\u001b[2m╔\u001b[22m\u001b[2m═\u001b[22m\u001b[2m═\u001b[22m\u001b[32m█\u001b[39m\u001b[32m█\u001b[39m\u001b[2m╗\u001b[22m\u001b[32m█\u001b[39m\u001b[32m█\u001b[39m\u001b[32m█\u001b[39m\u001b[32m█\u001b[39m\u001b[2m╗\u001b[22m \u001b[32m█\u001b[39m\u001b[32m█\u001b[39m\u001b[32m█\u001b[39m\u001b[32m█\u001b[39m\u001b[2m║\u001b[22m\u001b[32m█\u001b[39m\u001b[32m█\u001b[39m\u001b[2m╔\u001b[22m\u001b[2m═\u001b[22m\u001b[2m═\u001b[22m\u001b[32m█\u001b[39m\u001b[32m█\u001b[39m\u001b[2m╗\u001b[22m\u001b[32m█\u001b[39m\u001b[32m█\u001b[39m\u001b[2m╔\u001b[22m\u001b[2m═\u001b[22m\u001b[2m═\u001b[22m\u001b[2m═\u001b[22m\u001b[2m═\u001b[22m\u001b[2m╝\u001b[22m\u001b[32m█\u001b[39m\u001b[32m█\u001b[39m\u001b[2m║\u001b[22m\u001b[32m█\u001b[39m\u001b[32m█\u001b[39m\u001b[2m║\u001b[22m     \u001b[32m█\u001b[39m\u001b[32m█\u001b[39m\u001b[2m╔\u001b[22m\u001b[2m═\u001b[22m\u001b[2m═\u001b[22m\u001b[2m═\u001b[22m\u001b[2m═\u001b[22m\u001b[2m╝\u001b[22m\n",
            "\u001b[32m█\u001b[39m\u001b[32m█\u001b[39m\u001b[2m║\u001b[22m     \u001b[32m█\u001b[39m\u001b[32m█\u001b[39m\u001b[2m║\u001b[22m     \u001b[32m█\u001b[39m\u001b[32m█\u001b[39m\u001b[32m█\u001b[39m\u001b[32m█\u001b[39m\u001b[32m█\u001b[39m\u001b[32m█\u001b[39m\u001b[32m█\u001b[39m\u001b[2m║\u001b[22m\u001b[32m█\u001b[39m\u001b[32m█\u001b[39m\u001b[2m╔\u001b[22m\u001b[32m█\u001b[39m\u001b[32m█\u001b[39m\u001b[32m█\u001b[39m\u001b[32m█\u001b[39m\u001b[2m╔\u001b[22m\u001b[32m█\u001b[39m\u001b[32m█\u001b[39m\u001b[2m║\u001b[22m\u001b[32m█\u001b[39m\u001b[32m█\u001b[39m\u001b[32m█\u001b[39m\u001b[32m█\u001b[39m\u001b[32m█\u001b[39m\u001b[32m█\u001b[39m\u001b[32m█\u001b[39m\u001b[2m║\u001b[22m\u001b[32m█\u001b[39m\u001b[32m█\u001b[39m\u001b[32m█\u001b[39m\u001b[32m█\u001b[39m\u001b[32m█\u001b[39m\u001b[2m╗\u001b[22m  \u001b[32m█\u001b[39m\u001b[32m█\u001b[39m\u001b[2m║\u001b[22m\u001b[32m█\u001b[39m\u001b[32m█\u001b[39m\u001b[2m║\u001b[22m     \u001b[32m█\u001b[39m\u001b[32m█\u001b[39m\u001b[32m█\u001b[39m\u001b[32m█\u001b[39m\u001b[32m█\u001b[39m\u001b[2m╗\u001b[22m\n",
            "\u001b[32m█\u001b[39m\u001b[32m█\u001b[39m\u001b[2m║\u001b[22m     \u001b[32m█\u001b[39m\u001b[32m█\u001b[39m\u001b[2m║\u001b[22m     \u001b[32m█\u001b[39m\u001b[32m█\u001b[39m\u001b[2m╔\u001b[22m\u001b[2m═\u001b[22m\u001b[2m═\u001b[22m\u001b[32m█\u001b[39m\u001b[32m█\u001b[39m\u001b[2m║\u001b[22m\u001b[32m█\u001b[39m\u001b[32m█\u001b[39m\u001b[2m║\u001b[22m\u001b[2m╚\u001b[22m\u001b[32m█\u001b[39m\u001b[32m█\u001b[39m\u001b[2m╔\u001b[22m\u001b[2m╝\u001b[22m\u001b[32m█\u001b[39m\u001b[32m█\u001b[39m\u001b[2m║\u001b[22m\u001b[32m█\u001b[39m\u001b[32m█\u001b[39m\u001b[2m╔\u001b[22m\u001b[2m═\u001b[22m\u001b[2m═\u001b[22m\u001b[32m█\u001b[39m\u001b[32m█\u001b[39m\u001b[2m║\u001b[22m\u001b[32m█\u001b[39m\u001b[32m█\u001b[39m\u001b[2m╔\u001b[22m\u001b[2m═\u001b[22m\u001b[2m═\u001b[22m\u001b[2m╝\u001b[22m  \u001b[32m█\u001b[39m\u001b[32m█\u001b[39m\u001b[2m║\u001b[22m\u001b[32m█\u001b[39m\u001b[32m█\u001b[39m\u001b[2m║\u001b[22m     \u001b[32m█\u001b[39m\u001b[32m█\u001b[39m\u001b[2m╔\u001b[22m\u001b[2m═\u001b[22m\u001b[2m═\u001b[22m\u001b[2m╝\u001b[22m\n",
            "\u001b[32m█\u001b[39m\u001b[32m█\u001b[39m\u001b[32m█\u001b[39m\u001b[32m█\u001b[39m\u001b[32m█\u001b[39m\u001b[32m█\u001b[39m\u001b[32m█\u001b[39m\u001b[2m╗\u001b[22m\u001b[32m█\u001b[39m\u001b[32m█\u001b[39m\u001b[32m█\u001b[39m\u001b[32m█\u001b[39m\u001b[32m█\u001b[39m\u001b[32m█\u001b[39m\u001b[32m█\u001b[39m\u001b[2m╗\u001b[22m\u001b[32m█\u001b[39m\u001b[32m█\u001b[39m\u001b[2m║\u001b[22m  \u001b[32m█\u001b[39m\u001b[32m█\u001b[39m\u001b[2m║\u001b[22m\u001b[32m█\u001b[39m\u001b[32m█\u001b[39m\u001b[2m║\u001b[22m \u001b[2m╚\u001b[22m\u001b[2m═\u001b[22m\u001b[2m╝\u001b[22m \u001b[32m█\u001b[39m\u001b[32m█\u001b[39m\u001b[2m║\u001b[22m\u001b[32m█\u001b[39m\u001b[32m█\u001b[39m\u001b[2m║\u001b[22m  \u001b[32m█\u001b[39m\u001b[32m█\u001b[39m\u001b[2m║\u001b[22m\u001b[32m█\u001b[39m\u001b[32m█\u001b[39m\u001b[2m║\u001b[22m     \u001b[32m█\u001b[39m\u001b[32m█\u001b[39m\u001b[2m║\u001b[22m\u001b[32m█\u001b[39m\u001b[32m█\u001b[39m\u001b[32m█\u001b[39m\u001b[32m█\u001b[39m\u001b[32m█\u001b[39m\u001b[32m█\u001b[39m\u001b[32m█\u001b[39m\u001b[2m╗\u001b[22m\u001b[32m█\u001b[39m\u001b[32m█\u001b[39m\u001b[32m█\u001b[39m\u001b[32m█\u001b[39m\u001b[32m█\u001b[39m\u001b[32m█\u001b[39m\u001b[32m█\u001b[39m\u001b[2m╗\u001b[22m\n",
            "\u001b[2m╚\u001b[22m\u001b[2m═\u001b[22m\u001b[2m═\u001b[22m\u001b[2m═\u001b[22m\u001b[2m═\u001b[22m\u001b[2m═\u001b[22m\u001b[2m═\u001b[22m\u001b[2m╝\u001b[22m\u001b[2m╚\u001b[22m\u001b[2m═\u001b[22m\u001b[2m═\u001b[22m\u001b[2m═\u001b[22m\u001b[2m═\u001b[22m\u001b[2m═\u001b[22m\u001b[2m═\u001b[22m\u001b[2m╝\u001b[22m\u001b[2m╚\u001b[22m\u001b[2m═\u001b[22m\u001b[2m╝\u001b[22m  \u001b[2m╚\u001b[22m\u001b[2m═\u001b[22m\u001b[2m╝\u001b[22m\u001b[2m╚\u001b[22m\u001b[2m═\u001b[22m\u001b[2m╝\u001b[22m     \u001b[2m╚\u001b[22m\u001b[2m═\u001b[22m\u001b[2m╝\u001b[22m\u001b[2m╚\u001b[22m\u001b[2m═\u001b[22m\u001b[2m╝\u001b[22m  \u001b[2m╚\u001b[22m\u001b[2m═\u001b[22m\u001b[2m╝\u001b[22m\u001b[2m╚\u001b[22m\u001b[2m═\u001b[22m\u001b[2m╝\u001b[22m     \u001b[2m╚\u001b[22m\u001b[2m═\u001b[22m\u001b[2m╝\u001b[22m\u001b[2m╚\u001b[22m\u001b[2m═\u001b[22m\u001b[2m═\u001b[22m\u001b[2m═\u001b[22m\u001b[2m═\u001b[22m\u001b[2m═\u001b[22m\u001b[2m═\u001b[22m\u001b[2m╝\u001b[22m\u001b[2m╚\u001b[22m\u001b[2m═\u001b[22m\u001b[2m═\u001b[22m\u001b[2m═\u001b[22m\u001b[2m═\u001b[22m\u001b[2m═\u001b[22m\u001b[2m═\u001b[22m\u001b[2m╝\u001b[22m\n",
            "\u001b[K\u001b[1msoftware\u001b[22m: llamafile 0.9.2\n",
            "\u001b[1mmodel\u001b[22m:    llava-v1.5-7b-Q4_K.gguf\n",
            "\u001b[1mmode\u001b[22m:     RAW TEXT COMPLETION (base model)\n",
            "\u001b[1mcompute\u001b[22m:             Intel Xeon CPU @ 2.20GHz (broadwell)\n",
            "\u001b[1mserver\u001b[22m:   http://127.0.0.1:8081/\n",
            "\n",
            "^C\n"
          ]
        }
      ]
    }
  ]
}